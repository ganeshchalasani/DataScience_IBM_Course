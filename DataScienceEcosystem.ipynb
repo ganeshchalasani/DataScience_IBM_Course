{
 "cells": [
  {
   "cell_type": "markdown",
   "id": "a0b92b7d",
   "metadata": {},
   "source": [
    "## Exercise 2"
   ]
  },
  {
   "cell_type": "markdown",
   "id": "ef2d066c",
   "metadata": {},
   "source": [
    "# Data Science Tools and Ecosystem"
   ]
  },
  {
   "cell_type": "markdown",
   "id": "c33c840b",
   "metadata": {},
   "source": [
    "## Exercise 3"
   ]
  },
  {
   "cell_type": "markdown",
   "id": "bce1ab7b",
   "metadata": {},
   "source": [
    "# In this notebook, Data Science Tools and Ecosystem are summarized.\n",
    "\n",
    "- popular languages\n",
    "- libraries\n",
    "- tools"
   ]
  },
  {
   "cell_type": "markdown",
   "id": "cf57d1d1",
   "metadata": {},
   "source": [
    "## Exercise 4"
   ]
  },
  {
   "cell_type": "markdown",
   "id": "cd326239",
   "metadata": {},
   "source": [
    "# Some of the popular languages that Data Scientists use are:\n",
    "1. Python\n",
    "2. R\n",
    "3. Julia\n",
    "4. Ruby"
   ]
  },
  {
   "cell_type": "markdown",
   "id": "acab25dc",
   "metadata": {},
   "source": [
    "## Exercise 5"
   ]
  },
  {
   "cell_type": "markdown",
   "id": "9681af6d",
   "metadata": {},
   "source": [
    "# Some of the commonly used libraries used by Data Scientists include:\n",
    "1. Numpy\n",
    "2. Scikit\n",
    "3. Panda\n"
   ]
  },
  {
   "cell_type": "markdown",
   "id": "71d3d61f",
   "metadata": {},
   "source": [
    "# Exercise 6"
   ]
  },
  {
   "cell_type": "markdown",
   "id": "2769b7a0",
   "metadata": {},
   "source": [
    "| Data Science Tools | \n",
    "| -------------| \n",
    "| OFSAA |\n",
    "| SAS |\n",
    "| SPSS |"
   ]
  },
  {
   "cell_type": "markdown",
   "id": "249a8ca3",
   "metadata": {},
   "source": [
    "# Exercise 7"
   ]
  },
  {
   "cell_type": "code",
   "execution_count": 2,
   "id": "0ae44e74",
   "metadata": {},
   "outputs": [
    {
     "name": "stdout",
     "output_type": "stream",
     "text": [
      "64\n"
     ]
    }
   ],
   "source": [
    "c=8*8\n",
    "print(c)"
   ]
  },
  {
   "cell_type": "markdown",
   "id": "7f729db1",
   "metadata": {},
   "source": [
    "### Below are a few examples of evaluating arithmetic expressions in Python"
   ]
  },
  {
   "cell_type": "markdown",
   "id": "44ffd8cb",
   "metadata": {},
   "source": [
    "# Exercise 8"
   ]
  },
  {
   "cell_type": "code",
   "execution_count": 3,
   "id": "642c9401",
   "metadata": {},
   "outputs": [
    {
     "name": "stdout",
     "output_type": "stream",
     "text": [
      "17\n"
     ]
    }
   ],
   "source": [
    "a=(3*4)+5\n",
    "print(a)"
   ]
  },
  {
   "cell_type": "code",
   "execution_count": 4,
   "id": "7a241605",
   "metadata": {},
   "outputs": [
    {
     "name": "stdout",
     "output_type": "stream",
     "text": [
      "2.25\n"
     ]
    }
   ],
   "source": [
    "b=9/4\n",
    "print(b)"
   ]
  },
  {
   "cell_type": "markdown",
   "id": "771d6c89",
   "metadata": {},
   "source": [
    "# Exercise 9"
   ]
  },
  {
   "cell_type": "code",
   "execution_count": 5,
   "id": "63896fe1",
   "metadata": {},
   "outputs": [
    {
     "name": "stdout",
     "output_type": "stream",
     "text": [
      "3.3333333333333335 Hours\n"
     ]
    }
   ],
   "source": [
    "m=200\n",
    "#This will convert 200 minutes to hours by diving by 60\n",
    "h=m/60\n",
    "print(h,\"Hours\")"
   ]
  },
  {
   "cell_type": "markdown",
   "id": "4734325e",
   "metadata": {},
   "source": [
    "# Exercise 10"
   ]
  },
  {
   "cell_type": "markdown",
   "id": "f821c21f",
   "metadata": {},
   "source": [
    "# In this notebook, Data Science Tools and Ecosystem are summarized.\n",
    "\n",
    "**OBJECTIVES:**\n",
    "    \n",
    "+ popular languages\n",
    "+ libraries\n",
    "+ tools"
   ]
  },
  {
   "cell_type": "markdown",
   "id": "ae87ef27",
   "metadata": {},
   "source": [
    "# Exercise 11"
   ]
  },
  {
   "cell_type": "markdown",
   "id": "fec59b42",
   "metadata": {},
   "source": [
    "## Author\n",
    "\n",
    "__Ganesh Chalasani__"
   ]
  },
  {
   "cell_type": "code",
   "execution_count": null,
   "id": "a76a9702",
   "metadata": {},
   "outputs": [],
   "source": []
  }
 ],
 "metadata": {
  "kernelspec": {
   "display_name": "Python 3 (ipykernel)",
   "language": "python",
   "name": "python3"
  },
  "language_info": {
   "codemirror_mode": {
    "name": "ipython",
    "version": 3
   },
   "file_extension": ".py",
   "mimetype": "text/x-python",
   "name": "python",
   "nbconvert_exporter": "python",
   "pygments_lexer": "ipython3",
   "version": "3.11.5"
  }
 },
 "nbformat": 4,
 "nbformat_minor": 5
}
